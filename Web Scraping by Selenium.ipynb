{
 "cells": [
  {
   "cell_type": "code",
   "execution_count": 1,
   "id": "c5b177de-1d49-4fae-af48-2ba5b8d811ca",
   "metadata": {},
   "outputs": [],
   "source": [
    "# Importing the webdriver module to interact with the browser\n",
    "from selenium import webdriver \n",
    "\n",
    "# Automatically manages and installs the appropriate ChromeDriver\n",
    "from webdriver_manager.chrome import ChromeDriverManager  \n",
    "\n",
    "# Used to specify the path to the WebDriver executable (ChromeDriver in this case)\n",
    "from selenium.webdriver.chrome.service import Service \n",
    "\n",
    "# Allows you to customize Chrome's behavior \n",
    "from selenium.webdriver.chrome.options import Options\n",
    "\n",
    "# Importing By class from Selenium webdriver.common module\n",
    "from selenium.webdriver.common.by import By \n",
    "\n",
    "# Setting up Chrome options (optional configuration for Chrome browser)\n",
    "options = Options()\n",
    "\n",
    "# Adding experimental option to keep the browser open after the script ends\n",
    "options.add_experimental_option(\"detach\", True)  \n",
    "\n",
    "driver = webdriver.Chrome(service=Service(ChromeDriverManager().install()), options=options)\n",
    "\n",
    "# Open a URL (Google in this case)\n",
    "# driver.get(\"https://www.google.com\")\n",
    "# driver.get(\"https://www.youtube.com/watch?v=Eio-ZGLRDSs\")"
   ]
  },
  {
   "cell_type": "code",
   "execution_count": 3,
   "id": "1bd5bb23-1d0c-47fc-8121-a31075fd297d",
   "metadata": {},
   "outputs": [
    {
     "name": "stdout",
     "output_type": "stream",
     "text": [
      "Requirement already satisfied: webdriver-manager in c:\\users\\noman traders\\anaconda3\\lib\\site-packages (4.0.2)\n",
      "Requirement already satisfied: requests in c:\\users\\noman traders\\anaconda3\\lib\\site-packages (from webdriver-manager) (2.32.2)\n",
      "Requirement already satisfied: python-dotenv in c:\\users\\noman traders\\anaconda3\\lib\\site-packages (from webdriver-manager) (0.21.0)\n",
      "Requirement already satisfied: packaging in c:\\users\\noman traders\\anaconda3\\lib\\site-packages (from webdriver-manager) (23.2)\n",
      "Requirement already satisfied: charset-normalizer<4,>=2 in c:\\users\\noman traders\\anaconda3\\lib\\site-packages (from requests->webdriver-manager) (2.0.4)\n",
      "Requirement already satisfied: idna<4,>=2.5 in c:\\users\\noman traders\\anaconda3\\lib\\site-packages (from requests->webdriver-manager) (3.7)\n",
      "Requirement already satisfied: urllib3<3,>=1.21.1 in c:\\users\\noman traders\\anaconda3\\lib\\site-packages (from requests->webdriver-manager) (2.2.2)\n",
      "Requirement already satisfied: certifi>=2017.4.17 in c:\\users\\noman traders\\anaconda3\\lib\\site-packages (from requests->webdriver-manager) (2024.7.4)\n"
     ]
    }
   ],
   "source": [
    "!pip install webdriver-manager"
   ]
  },
  {
   "cell_type": "code",
   "execution_count": 5,
   "id": "5cc99e54-ef13-4243-8e08-35e9829ce2ac",
   "metadata": {},
   "outputs": [],
   "source": [
    "import pandas as pd\n",
    "import time"
   ]
  },
  {
   "cell_type": "code",
   "execution_count": 7,
   "id": "7adee38f-85be-43e5-beaf-4000c9077a31",
   "metadata": {},
   "outputs": [
    {
     "name": "stdout",
     "output_type": "stream",
     "text": [
      "Data has been written to 'Flipkart__Watches__by__Selenium.csv'.\n"
     ]
    }
   ],
   "source": [
    "# Lists to store product names and prices\n",
    "Product_name = []\n",
    "prices = []\n",
    "\n",
    "try:\n",
    "    # Iterate through pages 1 to 10\n",
    "    for page in range(1, 11):\n",
    "        # Open the webpage for the current page\n",
    "        url = f'https://www.flipkart.com/search?q=watch&otracker=search&otracker1=search&marketplace=FLIPKART&as-show=off&as=off&page={page}'\n",
    "        driver.get(url)\n",
    "\n",
    "        # Wait for the page to load completely\n",
    "        time.sleep(5)\n",
    "\n",
    "        # Find product names\n",
    "        name_elements = driver.find_elements(By.CLASS_NAME, \"WKTcLC\")  # Replace with correct class\n",
    "        for element in name_elements:\n",
    "            Product_name.append(element.text)\n",
    "\n",
    "        # Find product prices and filter elements based on class\n",
    "        price_elements = driver.find_elements(By.CLASS_NAME, \"Nx9bqj\")  # Replace with correct class\n",
    "        filtered_elements = [\n",
    "            element for element in price_elements if element.get_attribute(\"class\") == \"Nx9bqj\"\n",
    "        ]\n",
    "\n",
    "        # Append the text of filtered price elements\n",
    "        for element in filtered_elements:\n",
    "            prices.append(element.text)\n",
    "\n",
    "    # Create a DataFrame from the scraped data\n",
    "    data = pd.DataFrame({\n",
    "        'Product Name': Product_name,\n",
    "        'Price': prices\n",
    "    })\n",
    "\n",
    "    # Save DataFrame to a CSV file\n",
    "    data.to_csv('Flipkart__Watches__by__Selenium.csv', index=False, encoding='utf-8-sig')\n",
    "    print(\"Data has been written to 'Flipkart__Watches__by__Selenium.csv'.\")\n",
    "\n",
    "finally:\n",
    "    # Close the browser\n",
    "    driver.quit()\n"
   ]
  },
  {
   "cell_type": "code",
   "execution_count": null,
   "id": "dd487b0f-49c5-4e77-a51a-ca17e4e56075",
   "metadata": {},
   "outputs": [],
   "source": []
  }
 ],
 "metadata": {
  "kernelspec": {
   "display_name": "Python 3 (ipykernel)",
   "language": "python",
   "name": "python3"
  },
  "language_info": {
   "codemirror_mode": {
    "name": "ipython",
    "version": 3
   },
   "file_extension": ".py",
   "mimetype": "text/x-python",
   "name": "python",
   "nbconvert_exporter": "python",
   "pygments_lexer": "ipython3",
   "version": "3.12.4"
  }
 },
 "nbformat": 4,
 "nbformat_minor": 5
}
